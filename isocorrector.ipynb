{
 "cells": [
  {
   "cell_type": "code",
   "execution_count": null,
   "id": "4d246593",
   "metadata": {},
   "outputs": [],
   "source": [
    "library(IsoCorrectoR)"
   ]
  },
  {
   "cell_type": "code",
   "execution_count": null,
   "id": "7d6ffa84",
   "metadata": {},
   "outputs": [],
   "source": [
    "IsoCorrection(MeasurementFile='PSB0064_measurementFile.csv',\n",
    "              ElementFile='PSB0064_elementFile.csv',\n",
    "              MoleculeFile='PSB0064_moleculeFile.csv',\n",
    "              \n",
    "              CorrectTracerImpurity=FALSE,\n",
    "              CorrectTracerElementCore=TRUE,\n",
    "              CalculateMeanEnrichment=TRUE,\n",
    "              UltraHighRes=FALSE,\n",
    "              \n",
    "              DirOut='.',\n",
    "              FileOut='result',\n",
    "              FileOutFormat='csv',\n",
    "              ReturnResultsObject=FALSE,\n",
    "              \n",
    "              CorrectAlsoMonoisotopic=FALSE,\n",
    "              CalculationThreshold=10^-8,\n",
    "              CalculationThreshold_UHR=8,\n",
    "              \n",
    "              verbose=FALSE,\n",
    "              Testmode=FALSE)"
   ]
  }
 ],
 "metadata": {
  "kernelspec": {
   "display_name": "Enrichment",
   "language": "R",
   "name": "ir"
  },
  "language_info": {
   "codemirror_mode": "r",
   "file_extension": ".r",
   "mimetype": "text/x-r-source",
   "name": "R",
   "pygments_lexer": "r",
   "version": "4.2.2"
  },
  "toc": {
   "base_numbering": 1,
   "nav_menu": {},
   "number_sections": true,
   "sideBar": true,
   "skip_h1_title": false,
   "title_cell": "Table of Contents",
   "title_sidebar": "Contents",
   "toc_cell": false,
   "toc_position": {},
   "toc_section_display": true,
   "toc_window_display": false
  }
 },
 "nbformat": 4,
 "nbformat_minor": 5
}
